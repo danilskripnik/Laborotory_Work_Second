{
 "cells": [
  {
   "cell_type": "code",
   "execution_count": 4,
   "id": "c6c0e9ef",
   "metadata": {},
   "outputs": [
    {
     "name": "stdout",
     "output_type": "stream",
     "text": [
      "1\n"
     ]
    }
   ],
   "source": [
    "variant_task = (21 + 4) % 5 + 1\n",
    "print(variant_task)"
   ]
  },
  {
   "cell_type": "code",
   "execution_count": 6,
   "id": "7aacab6f",
   "metadata": {},
   "outputs": [],
   "source": [
    "# Варіант 1\n",
    "\n",
    "# Номери вправ: 1+, 2+, 3+, 5+, 10+, 11+, 12+, 13+, 14+, 15+, 16+, 17+, 18+, 21+, 22+, 23+, 24+, 26+"
   ]
  },
  {
   "cell_type": "code",
   "execution_count": 7,
   "id": "b30a57c7",
   "metadata": {},
   "outputs": [
    {
     "name": "stdout",
     "output_type": "stream",
     "text": [
      "   Id       Name  Year Gender  Count\n",
      "0   1       Mary  1880      F   7065\n",
      "1   2       Anna  1880      F   2604\n",
      "2   3       Emma  1880      F   2003\n",
      "3   4  Elizabeth  1880      F   1939\n",
      "4   5     Minnie  1880      F   1746\n",
      "5   6   Margaret  1880      F   1578\n",
      "6   7        Ida  1880      F   1472\n",
      "7   8      Alice  1880      F   1414\n"
     ]
    }
   ],
   "source": [
    "import pandas as pd\n",
    "\n",
    "data = pd.read_csv(\"NationalNames.csv\")\n",
    "\n",
    "print(data.head(8))"
   ]
  },
  {
   "cell_type": "code",
   "execution_count": 8,
   "id": "bdb109cc",
   "metadata": {},
   "outputs": [
    {
     "name": "stdout",
     "output_type": "stream",
     "text": [
      "              Id     Name  Year Gender  Count\n",
      "1825425  1825426       Zo  2014      M      5\n",
      "1825426  1825427    Zyeir  2014      M      5\n",
      "1825427  1825428     Zyel  2014      M      5\n",
      "1825428  1825429   Zykeem  2014      M      5\n",
      "1825429  1825430   Zymeer  2014      M      5\n",
      "1825430  1825431  Zymiere  2014      M      5\n",
      "1825431  1825432    Zyran  2014      M      5\n",
      "1825432  1825433    Zyrin  2014      M      5\n"
     ]
    }
   ],
   "source": [
    "import pandas as pd\n",
    "\n",
    "data = pd.read_csv(\"NationalNames.csv\")\n",
    "\n",
    "print(data.tail(8))"
   ]
  },
  {
   "cell_type": "code",
   "execution_count": 9,
   "id": "583b68c5",
   "metadata": {},
   "outputs": [
    {
     "name": "stdout",
     "output_type": "stream",
     "text": [
      "Index(['Id', 'Name', 'Year', 'Gender', 'Count'], dtype='object')\n"
     ]
    }
   ],
   "source": [
    "import pandas as pd\n",
    "\n",
    "data = pd.read_csv(\"NationalNames.csv\")\n",
    "column_names = data.columns\n",
    "\n",
    "print(column_names)"
   ]
  },
  {
   "cell_type": "code",
   "execution_count": 10,
   "id": "a0e3cac8",
   "metadata": {},
   "outputs": [
    {
     "name": "stdout",
     "output_type": "stream",
     "text": [
      "Кількість унікальних імен: 93889\n"
     ]
    }
   ],
   "source": [
    "import pandas as pd\n",
    "\n",
    "data = pd.read_csv(\"NationalNames.csv\")\n",
    "unique_names = data['Name'].unique()\n",
    "num_unique_names = len(unique_names)\n",
    "\n",
    "print(\"Кількість унікальних імен:\", num_unique_names)"
   ]
  },
  {
   "cell_type": "code",
   "execution_count": 11,
   "id": "90dbe233",
   "metadata": {},
   "outputs": [
    {
     "name": "stdout",
     "output_type": "stream",
     "text": [
      "Year\n",
      "1880     1889\n",
      "1881     1830\n",
      "1882     2012\n",
      "1883     1962\n",
      "1884     2158\n",
      "        ...  \n",
      "2010    31603\n",
      "2011    31418\n",
      "2012    31236\n",
      "2013    30774\n",
      "2014    30579\n",
      "Name: Name, Length: 135, dtype: int64\n"
     ]
    }
   ],
   "source": [
    "import pandas as pd\n",
    "\n",
    "data = pd.read_csv(\"NationalNames.csv\")\n",
    "unique_names_by_year = data.groupby('Year')['Name'].nunique()\n",
    "\n",
    "print(unique_names_by_year)"
   ]
  },
  {
   "cell_type": "code",
   "execution_count": 22,
   "id": "eff094a3",
   "metadata": {},
   "outputs": [
    {
     "data": {
      "text/html": [
       "<div>\n",
       "<style scoped>\n",
       "    .dataframe tbody tr th:only-of-type {\n",
       "        vertical-align: middle;\n",
       "    }\n",
       "\n",
       "    .dataframe tbody tr th {\n",
       "        vertical-align: top;\n",
       "    }\n",
       "\n",
       "    .dataframe thead th {\n",
       "        text-align: right;\n",
       "    }\n",
       "</style>\n",
       "<table border=\"1\" class=\"dataframe\">\n",
       "  <thead>\n",
       "    <tr style=\"text-align: right;\">\n",
       "      <th></th>\n",
       "      <th>Year</th>\n",
       "      <th>Name</th>\n",
       "    </tr>\n",
       "  </thead>\n",
       "  <tbody>\n",
       "    <tr>\n",
       "      <th>0</th>\n",
       "      <td>2008</td>\n",
       "      <td>32488</td>\n",
       "    </tr>\n",
       "  </tbody>\n",
       "</table>\n",
       "</div>"
      ],
      "text/plain": [
       "   Year   Name\n",
       "0  2008  32488"
      ]
     },
     "execution_count": 22,
     "metadata": {},
     "output_type": "execute_result"
    }
   ],
   "source": [
    "import pandas as pd\n",
    "\n",
    "data = pd.read_csv(\"NationalNames.csv\")\n",
    "unique_names_per_year = data.groupby('Year')['Name'].nunique()\n",
    "year_max_names = unique_names_per_year.idxmax()\n",
    "max_names = unique_names_per_year.max()\n",
    "result_df = pd.DataFrame({'Year': [year_max_names], 'Name': [max_names]})\n",
    "\n",
    "result_df"
   ]
  },
  {
   "cell_type": "code",
   "execution_count": 27,
   "id": "bfe2a0a2",
   "metadata": {},
   "outputs": [
    {
     "name": "stdout",
     "output_type": "stream",
     "text": [
      "Найпопулярніше ім'я у році з найбільшою кількістю унікальних імен (Jacob)\n"
     ]
    }
   ],
   "source": [
    "import pandas as pd\n",
    "\n",
    "data = pd.read_csv(\"NationalNames.csv\")\n",
    "unique_names_per_year = df.groupby('Year')['Name'].nunique().idxmax()\n",
    "data_2008 = df[df['Year'] == unique_names_per_year]\n",
    "most_popular_name = data_2008.groupby('Name')['Count'].sum().idxmax()\n",
    "\n",
    "print(f\"Найпопулярніше ім'я у році з найбільшою кількістю унікальних імен ({most_popular_name})\")"
   ]
  },
  {
   "cell_type": "code",
   "execution_count": 30,
   "id": "954a621b",
   "metadata": {},
   "outputs": [
    {
     "data": {
      "text/plain": [
       "Id        1455557\n",
       "Name        Jacob\n",
       "Year         2004\n",
       "Gender          F\n",
       "Count         171\n",
       "Name: 1455556, dtype: object"
      ]
     },
     "execution_count": 30,
     "metadata": {},
     "output_type": "execute_result"
    }
   ],
   "source": [
    "import pandas as pd\n",
    "\n",
    "data = pd.read_csv(\"NationalNames.csv\")\n",
    "female_name = data[(data['Name'] == 'Jacob') & (data['Gender'] == 'F')]\n",
    "most_popular_year = female_name.loc[female_name['Count'].idxmax()]\n",
    "\n",
    "most_popular_year"
   ]
  },
  {
   "cell_type": "code",
   "execution_count": 32,
   "id": "217b01dc",
   "metadata": {},
   "outputs": [
    {
     "name": "stdout",
     "output_type": "stream",
     "text": [
      "Year     2008\n",
      "Count    2557\n",
      "Name: 128, dtype: int64\n"
     ]
    }
   ],
   "source": [
    "import pandas as pd\n",
    "\n",
    "df = pd.read_csv(\"NationalNames.csv\")\n",
    "name_year_gender_counts = df.groupby(['Year', 'Name'])['Gender'].nunique().reset_index()\n",
    "gender_neutral_names = name_year_gender_counts[name_year_gender_counts['Gender'] == 2]\n",
    "neutral_names_per_year = gender_neutral_names.groupby('Year').size().reset_index(name='Count')\n",
    "year_with_most_neutral_names = neutral_names_per_year.loc[neutral_names_per_year['Count'].idxmax()]\n",
    "\n",
    "print(year_with_most_neutral_names)"
   ]
  },
  {
   "cell_type": "code",
   "execution_count": 38,
   "id": "8db04967",
   "metadata": {},
   "outputs": [
    {
     "data": {
      "text/plain": [
       "Year\n",
       "1880     201484\n",
       "1881     192699\n",
       "1882     221538\n",
       "1883     216950\n",
       "1884     243467\n",
       "         ...   \n",
       "2010    3686589\n",
       "2011    3646730\n",
       "2012    3643336\n",
       "2013    3626802\n",
       "2014    3670151\n",
       "Name: Count, Length: 135, dtype: int64"
      ]
     },
     "execution_count": 38,
     "metadata": {},
     "output_type": "execute_result"
    }
   ],
   "source": [
    "import pandas as pd\n",
    "\n",
    "data = pd.read_csv(\"NationalNames.csv\")\n",
    "births_per_year = data.groupby('Year')['Count'].sum()\n",
    "\n",
    "births_per_year"
   ]
  },
  {
   "cell_type": "code",
   "execution_count": 37,
   "id": "328a9bc8",
   "metadata": {},
   "outputs": [
    {
     "name": "stdout",
     "output_type": "stream",
     "text": [
      "Найбільше дітей народилося в 1957 році.\n"
     ]
    }
   ],
   "source": [
    "import pandas as pd\n",
    "\n",
    "data = pd.read_csv(\"NationalNames.csv\")\n",
    "total_births_by_year = data.pivot_table(values='Count', index='Year', aggfunc='sum')\n",
    "max_birth_year = total_births_by_year['Count'].idxmax()\n",
    "\n",
    "print(f\"Найбільше дітей народилося в {max_birth_year} році.\")"
   ]
  },
  {
   "cell_type": "code",
   "execution_count": 41,
   "id": "4aa571de",
   "metadata": {},
   "outputs": [
    {
     "name": "stdout",
     "output_type": "stream",
     "text": [
      "Gender        F        M\n",
      "Year                    \n",
      "1880      90993   110491\n",
      "1881      91954   100745\n",
      "1882     107850   113688\n",
      "1883     112321   104629\n",
      "1884     129022   114445\n",
      "...         ...      ...\n",
      "2010    1772738  1913851\n",
      "2011    1753500  1893230\n",
      "2012    1753922  1889414\n",
      "2013    1745339  1881463\n",
      "2014    1768775  1901376\n",
      "\n",
      "[135 rows x 2 columns]\n"
     ]
    }
   ],
   "source": [
    "import pandas as pd\n",
    "\n",
    "data = pd.read_csv(\"NationalNames.csv\")\n",
    "births_by_year_gender = data.pivot_table(values='Count', index='Year', columns='Gender', aggfunc='sum')\n",
    "\n",
    "print(births_by_year_gender)"
   ]
  },
  {
   "cell_type": "code",
   "execution_count": 44,
   "id": "c4bcf151",
   "metadata": {},
   "outputs": [
    {
     "name": "stdout",
     "output_type": "stream",
     "text": [
      "Кількість років, коли народилося більше дівчаток: 54\n"
     ]
    }
   ],
   "source": [
    "import pandas as pd\n",
    "\n",
    "data = pd.read_csv(\"NationalNames.csv\")\n",
    "births_by_year_gende = data.pivot_table(values='Count', index='Year', columns='Gender', aggfunc='sum')\n",
    "years_more_girls = (births_by_year_gende['F'] > births_by_year_gende['M']).sum()\n",
    "\n",
    "print(f\"Кількість років, коли народилося більше дівчаток: {years_more_girls}\")"
   ]
  },
  {
   "cell_type": "code",
   "execution_count": 49,
   "id": "fee2a882",
   "metadata": {},
   "outputs": [
    {
     "name": "stdout",
     "output_type": "stream",
     "text": [
      "Кількість випадків, коли хлопчиків називали Barbara: 4139\n"
     ]
    }
   ],
   "source": [
    "import pandas as pd\n",
    "\n",
    "data = pd.read_csv(\"NationalNames.csv\")\n",
    "barbara_boys = data[(data['Name'] == 'Barbara') & (data['Gender'] == 'M')]\n",
    "count_barbara_boys = barbara_boys['Count'].sum()\n",
    "\n",
    "print(f\"Кількість випадків, коли хлопчиків називали Barbara: {count_barbara_boys}\")"
   ]
  },
  {
   "cell_type": "code",
   "execution_count": 52,
   "id": "52b3d398",
   "metadata": {},
   "outputs": [
    {
     "name": "stdout",
     "output_type": "stream",
     "text": [
      "Спостереження проводилось: 135\n"
     ]
    }
   ],
   "source": [
    "import pandas as pd\n",
    "\n",
    "data = pd.read_csv(\"NationalNames.csv\")\n",
    "earliest_year = data['Year'].min()\n",
    "latest_year = data['Year'].max()\n",
    "years_of_observation = latest_year - earliest_year + 1\n",
    "\n",
    "print(\"Спостереження проводилось:\", years_of_observation)"
   ]
  },
  {
   "cell_type": "code",
   "execution_count": 1,
   "id": "41708fc8",
   "metadata": {},
   "outputs": [
    {
     "data": {
      "text/html": [
       "<div>\n",
       "<style scoped>\n",
       "    .dataframe tbody tr th:only-of-type {\n",
       "        vertical-align: middle;\n",
       "    }\n",
       "\n",
       "    .dataframe tbody tr th {\n",
       "        vertical-align: top;\n",
       "    }\n",
       "\n",
       "    .dataframe thead th {\n",
       "        text-align: right;\n",
       "    }\n",
       "</style>\n",
       "<table border=\"1\" class=\"dataframe\">\n",
       "  <thead>\n",
       "    <tr style=\"text-align: right;\">\n",
       "      <th></th>\n",
       "      <th>Name</th>\n",
       "    </tr>\n",
       "  </thead>\n",
       "  <tbody>\n",
       "    <tr>\n",
       "      <th>0</th>\n",
       "      <td>John</td>\n",
       "    </tr>\n",
       "    <tr>\n",
       "      <th>1</th>\n",
       "      <td>Sidney</td>\n",
       "    </tr>\n",
       "    <tr>\n",
       "      <th>2</th>\n",
       "      <td>Francis</td>\n",
       "    </tr>\n",
       "    <tr>\n",
       "      <th>3</th>\n",
       "      <td>Ollie</td>\n",
       "    </tr>\n",
       "    <tr>\n",
       "      <th>4</th>\n",
       "      <td>Jesse</td>\n",
       "    </tr>\n",
       "    <tr>\n",
       "      <th>5</th>\n",
       "      <td>Marion</td>\n",
       "    </tr>\n",
       "    <tr>\n",
       "      <th>6</th>\n",
       "      <td>Leslie</td>\n",
       "    </tr>\n",
       "    <tr>\n",
       "      <th>7</th>\n",
       "      <td>Johnnie</td>\n",
       "    </tr>\n",
       "    <tr>\n",
       "      <th>8</th>\n",
       "      <td>Tommie</td>\n",
       "    </tr>\n",
       "    <tr>\n",
       "      <th>9</th>\n",
       "      <td>Joseph</td>\n",
       "    </tr>\n",
       "    <tr>\n",
       "      <th>10</th>\n",
       "      <td>Jessie</td>\n",
       "    </tr>\n",
       "    <tr>\n",
       "      <th>11</th>\n",
       "      <td>Robert</td>\n",
       "    </tr>\n",
       "    <tr>\n",
       "      <th>12</th>\n",
       "      <td>Lee</td>\n",
       "    </tr>\n",
       "    <tr>\n",
       "      <th>13</th>\n",
       "      <td>Jean</td>\n",
       "    </tr>\n",
       "    <tr>\n",
       "      <th>14</th>\n",
       "      <td>William</td>\n",
       "    </tr>\n",
       "  </tbody>\n",
       "</table>\n",
       "</div>"
      ],
      "text/plain": [
       "       Name\n",
       "0      John\n",
       "1    Sidney\n",
       "2   Francis\n",
       "3     Ollie\n",
       "4     Jesse\n",
       "5    Marion\n",
       "6    Leslie\n",
       "7   Johnnie\n",
       "8    Tommie\n",
       "9    Joseph\n",
       "10   Jessie\n",
       "11   Robert\n",
       "12      Lee\n",
       "13     Jean\n",
       "14  William"
      ]
     },
     "metadata": {},
     "output_type": "display_data"
    }
   ],
   "source": [
    "import pandas as pd\n",
    "\n",
    "data = pd.read_csv(\"NationalNames.csv\")\n",
    "\n",
    "grouped_data = data.groupby(['Year', 'Name'])['Gender'].nunique().reset_index()\n",
    "gender_neutral_names_each_year = grouped_data[grouped_data['Gender'] > 1]['Name'].unique()\n",
    "\n",
    "gender_neutral_data = data[data['Name'].isin(gender_neutral_names_each_year)]\n",
    "\n",
    "popular_gender_neutral_names = gender_neutral_data['Name'].value_counts().head(15)\n",
    "\n",
    "popular_gender_neutral_names_df = pd.DataFrame(popular_gender_neutral_names.index, columns=['Name']).reset_index(drop=True)\n",
    "\n",
    "display(popular_gender_neutral_names_df)"
   ]
  },
  {
   "cell_type": "code",
   "execution_count": 5,
   "id": "8e9b66ca",
   "metadata": {},
   "outputs": [
    {
     "name": "stdout",
     "output_type": "stream",
     "text": [
      "Найбільш популярне з непопулярних імен - це Adriyana.\n",
      "Їм називали 160 разів.\n"
     ]
    }
   ],
   "source": [
    "import pandas as pd\n",
    "\n",
    "data = pd.read_csv(\"NationalNames.csv\")\n",
    "names_count = data.groupby('Name').sum()['Count']\n",
    "unpopular_names = names_count[names_count < 161]\n",
    "\n",
    "most_popular_unpopular_name = unpopular_names.idxmax()\n",
    "most_popular_unpopular_count = unpopular_names.max()\n",
    "\n",
    "print(f\"Найбільш популярне з непопулярних імен - це {most_popular_unpopular_name}.\")\n",
    "print(f\"Їм називали {most_popular_unpopular_count} разів.\")"
   ]
  },
  {
   "cell_type": "code",
   "execution_count": 14,
   "id": "d49699d9",
   "metadata": {},
   "outputs": [
    {
     "data": {
      "image/png": "[encoded data removed]",
      "text/plain": [
       "<Figure size 1000x600 with 1 Axes>"
      ]
     },
     "metadata": {},
     "output_type": "display_data"
    }
   ],
   "source": [
    "import pandas as pd\n",
    "import matplotlib.pyplot as plt\n",
    "\n",
    "df = pd.read_csv('NationalNames.csv')\n",
    "plt.figure(figsize=(10, 6))\n",
    "\n",
    "john_female = df[(df['Name'] == 'John') &\n",
    "                 (df['Gender'] == 'F')].groupby('Year')['Count'].sum().reset_index()\n",
    "\n",
    "\n",
    "mary_male = df[(df['Name'] == 'Mary') &\n",
    "               (df['Gender'] == 'M')].groupby('Year')['Count'].sum().reset_index()\n",
    "\n",
    "plt.plot(john_female['Year'], john_female['Count'], label='John', color='blue')\n",
    "plt.plot(mary_male['Year'], mary_male['Count'], label='Mary', color='orange')\n",
    "\n",
    "plt.xlabel('Year')\n",
    "plt.ylabel('Count')\n",
    "plt.legend(title='Name')\n",
    "\n",
    "plt.show()"
   ]
  }
 ],
 "metadata": {
  "kernelspec": {
   "display_name": "Python 3 (ipykernel)",
   "language": "python",
   "name": "python3"
  },
  "language_info": {
   "codemirror_mode": {
    "name": "ipython",
    "version": 3
   },
   "file_extension": ".py",
   "mimetype": "text/x-python",
   "name": "python",
   "nbconvert_exporter": "python",
   "pygments_lexer": "ipython3",
   "version": "3.11.5"
  }
 },
 "nbformat": 4,
 "nbformat_minor": 5
}
